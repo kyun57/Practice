{
  "nbformat": 4,
  "nbformat_minor": 0,
  "metadata": {
    "colab": {
      "provenance": []
    },
    "kernelspec": {
      "name": "python3",
      "display_name": "Python 3"
    },
    "language_info": {
      "name": "python"
    }
  },
  "cells": [
    {
      "cell_type": "code",
      "execution_count": 52,
      "metadata": {
        "colab": {
          "base_uri": "https://localhost:8080/",
          "height": 93
        },
        "id": "PJ7RKbzjceZB",
        "outputId": "dacf835d-a630-4678-c45f-1b6fa6dd222c"
      },
      "outputs": [
        {
          "output_type": "display_data",
          "data": {
            "text/plain": [
              "<IPython.core.display.HTML object>"
            ],
            "text/html": [
              "\n",
              "     <input type=\"file\" id=\"files-05fa7076-facd-4c16-bd17-b4e3b8c358f8\" name=\"files[]\" multiple disabled\n",
              "        style=\"border:none\" />\n",
              "     <output id=\"result-05fa7076-facd-4c16-bd17-b4e3b8c358f8\">\n",
              "      Upload widget is only available when the cell has been executed in the\n",
              "      current browser session. Please rerun this cell to enable.\n",
              "      </output>\n",
              "      <script>// Copyright 2017 Google LLC\n",
              "//\n",
              "// Licensed under the Apache License, Version 2.0 (the \"License\");\n",
              "// you may not use this file except in compliance with the License.\n",
              "// You may obtain a copy of the License at\n",
              "//\n",
              "//      http://www.apache.org/licenses/LICENSE-2.0\n",
              "//\n",
              "// Unless required by applicable law or agreed to in writing, software\n",
              "// distributed under the License is distributed on an \"AS IS\" BASIS,\n",
              "// WITHOUT WARRANTIES OR CONDITIONS OF ANY KIND, either express or implied.\n",
              "// See the License for the specific language governing permissions and\n",
              "// limitations under the License.\n",
              "\n",
              "/**\n",
              " * @fileoverview Helpers for google.colab Python module.\n",
              " */\n",
              "(function(scope) {\n",
              "function span(text, styleAttributes = {}) {\n",
              "  const element = document.createElement('span');\n",
              "  element.textContent = text;\n",
              "  for (const key of Object.keys(styleAttributes)) {\n",
              "    element.style[key] = styleAttributes[key];\n",
              "  }\n",
              "  return element;\n",
              "}\n",
              "\n",
              "// Max number of bytes which will be uploaded at a time.\n",
              "const MAX_PAYLOAD_SIZE = 100 * 1024;\n",
              "\n",
              "function _uploadFiles(inputId, outputId) {\n",
              "  const steps = uploadFilesStep(inputId, outputId);\n",
              "  const outputElement = document.getElementById(outputId);\n",
              "  // Cache steps on the outputElement to make it available for the next call\n",
              "  // to uploadFilesContinue from Python.\n",
              "  outputElement.steps = steps;\n",
              "\n",
              "  return _uploadFilesContinue(outputId);\n",
              "}\n",
              "\n",
              "// This is roughly an async generator (not supported in the browser yet),\n",
              "// where there are multiple asynchronous steps and the Python side is going\n",
              "// to poll for completion of each step.\n",
              "// This uses a Promise to block the python side on completion of each step,\n",
              "// then passes the result of the previous step as the input to the next step.\n",
              "function _uploadFilesContinue(outputId) {\n",
              "  const outputElement = document.getElementById(outputId);\n",
              "  const steps = outputElement.steps;\n",
              "\n",
              "  const next = steps.next(outputElement.lastPromiseValue);\n",
              "  return Promise.resolve(next.value.promise).then((value) => {\n",
              "    // Cache the last promise value to make it available to the next\n",
              "    // step of the generator.\n",
              "    outputElement.lastPromiseValue = value;\n",
              "    return next.value.response;\n",
              "  });\n",
              "}\n",
              "\n",
              "/**\n",
              " * Generator function which is called between each async step of the upload\n",
              " * process.\n",
              " * @param {string} inputId Element ID of the input file picker element.\n",
              " * @param {string} outputId Element ID of the output display.\n",
              " * @return {!Iterable<!Object>} Iterable of next steps.\n",
              " */\n",
              "function* uploadFilesStep(inputId, outputId) {\n",
              "  const inputElement = document.getElementById(inputId);\n",
              "  inputElement.disabled = false;\n",
              "\n",
              "  const outputElement = document.getElementById(outputId);\n",
              "  outputElement.innerHTML = '';\n",
              "\n",
              "  const pickedPromise = new Promise((resolve) => {\n",
              "    inputElement.addEventListener('change', (e) => {\n",
              "      resolve(e.target.files);\n",
              "    });\n",
              "  });\n",
              "\n",
              "  const cancel = document.createElement('button');\n",
              "  inputElement.parentElement.appendChild(cancel);\n",
              "  cancel.textContent = 'Cancel upload';\n",
              "  const cancelPromise = new Promise((resolve) => {\n",
              "    cancel.onclick = () => {\n",
              "      resolve(null);\n",
              "    };\n",
              "  });\n",
              "\n",
              "  // Wait for the user to pick the files.\n",
              "  const files = yield {\n",
              "    promise: Promise.race([pickedPromise, cancelPromise]),\n",
              "    response: {\n",
              "      action: 'starting',\n",
              "    }\n",
              "  };\n",
              "\n",
              "  cancel.remove();\n",
              "\n",
              "  // Disable the input element since further picks are not allowed.\n",
              "  inputElement.disabled = true;\n",
              "\n",
              "  if (!files) {\n",
              "    return {\n",
              "      response: {\n",
              "        action: 'complete',\n",
              "      }\n",
              "    };\n",
              "  }\n",
              "\n",
              "  for (const file of files) {\n",
              "    const li = document.createElement('li');\n",
              "    li.append(span(file.name, {fontWeight: 'bold'}));\n",
              "    li.append(span(\n",
              "        `(${file.type || 'n/a'}) - ${file.size} bytes, ` +\n",
              "        `last modified: ${\n",
              "            file.lastModifiedDate ? file.lastModifiedDate.toLocaleDateString() :\n",
              "                                    'n/a'} - `));\n",
              "    const percent = span('0% done');\n",
              "    li.appendChild(percent);\n",
              "\n",
              "    outputElement.appendChild(li);\n",
              "\n",
              "    const fileDataPromise = new Promise((resolve) => {\n",
              "      const reader = new FileReader();\n",
              "      reader.onload = (e) => {\n",
              "        resolve(e.target.result);\n",
              "      };\n",
              "      reader.readAsArrayBuffer(file);\n",
              "    });\n",
              "    // Wait for the data to be ready.\n",
              "    let fileData = yield {\n",
              "      promise: fileDataPromise,\n",
              "      response: {\n",
              "        action: 'continue',\n",
              "      }\n",
              "    };\n",
              "\n",
              "    // Use a chunked sending to avoid message size limits. See b/62115660.\n",
              "    let position = 0;\n",
              "    do {\n",
              "      const length = Math.min(fileData.byteLength - position, MAX_PAYLOAD_SIZE);\n",
              "      const chunk = new Uint8Array(fileData, position, length);\n",
              "      position += length;\n",
              "\n",
              "      const base64 = btoa(String.fromCharCode.apply(null, chunk));\n",
              "      yield {\n",
              "        response: {\n",
              "          action: 'append',\n",
              "          file: file.name,\n",
              "          data: base64,\n",
              "        },\n",
              "      };\n",
              "\n",
              "      let percentDone = fileData.byteLength === 0 ?\n",
              "          100 :\n",
              "          Math.round((position / fileData.byteLength) * 100);\n",
              "      percent.textContent = `${percentDone}% done`;\n",
              "\n",
              "    } while (position < fileData.byteLength);\n",
              "  }\n",
              "\n",
              "  // All done.\n",
              "  yield {\n",
              "    response: {\n",
              "      action: 'complete',\n",
              "    }\n",
              "  };\n",
              "}\n",
              "\n",
              "scope.google = scope.google || {};\n",
              "scope.google.colab = scope.google.colab || {};\n",
              "scope.google.colab._files = {\n",
              "  _uploadFiles,\n",
              "  _uploadFilesContinue,\n",
              "};\n",
              "})(self);\n",
              "</script> "
            ]
          },
          "metadata": {}
        },
        {
          "output_type": "stream",
          "name": "stdout",
          "text": [
            "Saving Books_Data_Clean.csv to Books_Data_Clean (1).csv\n",
            "Requirement already satisfied: ace_tools in /usr/local/lib/python3.11/dist-packages (0.0)\n"
          ]
        }
      ],
      "source": [
        "import pandas as pd\n",
        "from google.colab import files\n",
        "uploaded = files.upload()"
      ]
    },
    {
      "cell_type": "code",
      "source": [
        "df = pd.read_csv(\"Books_Data_Clean.csv\")"
      ],
      "metadata": {
        "id": "IeJWIIN7cx3N"
      },
      "execution_count": 16,
      "outputs": []
    },
    {
      "cell_type": "code",
      "source": [
        "print(df.head())"
      ],
      "metadata": {
        "colab": {
          "base_uri": "https://localhost:8080/"
        },
        "id": "RCXg6BckdM39",
        "outputId": "78a7b8a3-0bc1-4c60-ccc0-530fa5a7593d"
      },
      "execution_count": 17,
      "outputs": [
        {
          "output_type": "stream",
          "name": "stdout",
          "text": [
            "   index  Publishing Year                        Book Name  \\\n",
            "0      0           1975.0                          Beowulf   \n",
            "1      1           1987.0                 Batman: Year One   \n",
            "2      2           2015.0                Go Set a Watchman   \n",
            "3      3           2008.0  When You Are Engulfed in Flames   \n",
            "4      4           2011.0         Daughter of Smoke & Bone   \n",
            "\n",
            "                                              Author language_code  \\\n",
            "0                             Unknown, Seamus Heaney         en-US   \n",
            "1  Frank Miller, David Mazzucchelli, Richmond Lew...           eng   \n",
            "2                                         Harper Lee           eng   \n",
            "3                                      David Sedaris         en-US   \n",
            "4                                       Laini Taylor           eng   \n",
            "\n",
            "  Author_Rating  Book_average_rating  Book_ratings_count          genre  \\\n",
            "0        Novice                 3.42              155903  genre fiction   \n",
            "1  Intermediate                 4.23              145267  genre fiction   \n",
            "2        Novice                 3.31              138669  genre fiction   \n",
            "3  Intermediate                 4.04              150898        fiction   \n",
            "4  Intermediate                 4.04              198283  genre fiction   \n",
            "\n",
            "   gross sales  publisher revenue  sale price  sales rank  \\\n",
            "0      34160.0            20496.0        4.88           1   \n",
            "1      12437.5             7462.5        1.99           2   \n",
            "2      47795.0            28677.0        8.69           3   \n",
            "3      41250.0            24750.0        7.50           3   \n",
            "4      37952.5            22771.5        7.99           4   \n",
            "\n",
            "                       Publisher   units sold  \n",
            "0        HarperCollins Publishers        7000  \n",
            "1        HarperCollins Publishers        6250  \n",
            "2  Amazon Digital Services,  Inc.        5500  \n",
            "3             Hachette Book Group        5500  \n",
            "4         Penguin Group (USA) LLC        4750  \n"
          ]
        }
      ]
    },
    {
      "cell_type": "code",
      "source": [
        "print(df.shape)"
      ],
      "metadata": {
        "colab": {
          "base_uri": "https://localhost:8080/"
        },
        "id": "HOjU1jY1eits",
        "outputId": "221f41ef-e904-488e-c023-4a8c056ddcea"
      },
      "execution_count": 18,
      "outputs": [
        {
          "output_type": "stream",
          "name": "stdout",
          "text": [
            "(1070, 15)\n"
          ]
        }
      ]
    },
    {
      "cell_type": "code",
      "source": [
        "print(df.info())"
      ],
      "metadata": {
        "colab": {
          "base_uri": "https://localhost:8080/"
        },
        "id": "B4cjA7JPelsc",
        "outputId": "000a433f-053e-4299-80c0-3b9f1fc66ab0"
      },
      "execution_count": 20,
      "outputs": [
        {
          "output_type": "stream",
          "name": "stdout",
          "text": [
            "<class 'pandas.core.frame.DataFrame'>\n",
            "RangeIndex: 1070 entries, 0 to 1069\n",
            "Data columns (total 15 columns):\n",
            " #   Column               Non-Null Count  Dtype  \n",
            "---  ------               --------------  -----  \n",
            " 0   index                1070 non-null   int64  \n",
            " 1   Publishing Year      1069 non-null   float64\n",
            " 2   Book Name            1047 non-null   object \n",
            " 3   Author               1070 non-null   object \n",
            " 4   language_code        1017 non-null   object \n",
            " 5   Author_Rating        1070 non-null   object \n",
            " 6   Book_average_rating  1070 non-null   float64\n",
            " 7   Book_ratings_count   1070 non-null   int64  \n",
            " 8   genre                1070 non-null   object \n",
            " 9   gross sales          1070 non-null   float64\n",
            " 10  publisher revenue    1070 non-null   float64\n",
            " 11  sale price           1070 non-null   float64\n",
            " 12  sales rank           1070 non-null   int64  \n",
            " 13  Publisher            1070 non-null   object \n",
            " 14  units sold           1070 non-null   int64  \n",
            "dtypes: float64(5), int64(4), object(6)\n",
            "memory usage: 125.5+ KB\n",
            "None\n"
          ]
        }
      ]
    },
    {
      "cell_type": "code",
      "source": [
        "print(df.isnull().sum())"
      ],
      "metadata": {
        "colab": {
          "base_uri": "https://localhost:8080/"
        },
        "id": "eQVwFcsAep1-",
        "outputId": "510a62d7-8f84-485e-ffb5-0e72f39dee55"
      },
      "execution_count": 21,
      "outputs": [
        {
          "output_type": "stream",
          "name": "stdout",
          "text": [
            "index                   0\n",
            "Publishing Year         1\n",
            "Book Name              23\n",
            "Author                  0\n",
            "language_code          53\n",
            "Author_Rating           0\n",
            "Book_average_rating     0\n",
            "Book_ratings_count      0\n",
            "genre                   0\n",
            "gross sales             0\n",
            "publisher revenue       0\n",
            "sale price              0\n",
            "sales rank              0\n",
            "Publisher               0\n",
            "units sold              0\n",
            "dtype: int64\n"
          ]
        }
      ]
    },
    {
      "cell_type": "code",
      "source": [
        "print(df[['Book_average_rating', 'units sold']].describe())"
      ],
      "metadata": {
        "colab": {
          "base_uri": "https://localhost:8080/"
        },
        "id": "Q5X0Fza6e2Bi",
        "outputId": "7cb2692f-7a93-4ced-ee66-33cd8621a9c3"
      },
      "execution_count": 23,
      "outputs": [
        {
          "output_type": "stream",
          "name": "stdout",
          "text": [
            "       Book_average_rating    units sold\n",
            "count          1070.000000   1070.000000\n",
            "mean              4.007000   9676.980374\n",
            "std               0.247244  15370.571306\n",
            "min               2.970000    106.000000\n",
            "25%               3.850000    551.250000\n",
            "50%               4.015000   3924.000000\n",
            "75%               4.170000   5312.250000\n",
            "max               4.770000  61560.000000\n"
          ]
        }
      ]
    },
    {
      "cell_type": "markdown",
      "source": [
        "## 산점도 EDA"
      ],
      "metadata": {
        "id": "V9oH6Z-3hnaB"
      }
    },
    {
      "cell_type": "code",
      "source": [
        "import matplotlib.pyplot as plt\n",
        "\n",
        "plt.figure(figsize=(10, 6))\n",
        "plt.scatter(df['Book_average_rating'],df['units sold'],alpha=0.5)\n",
        "plt.xlabel('Book_average_rating')\n",
        "plt.ylabel('units sold')\n",
        "plt.title('Scatter Plot of Book_average_rating vs units sold')\n",
        "plt.grid(True)\n",
        "plt.show()"
      ],
      "metadata": {
        "colab": {
          "base_uri": "https://localhost:8080/",
          "height": 564
        },
        "id": "DB2ZxnrkfG5d",
        "outputId": "d61d6bba-50c3-45ac-8770-9307668d687d"
      },
      "execution_count": 24,
      "outputs": [
        {
          "output_type": "display_data",
          "data": {
            "text/plain": [
              "<Figure size 1000x600 with 1 Axes>"
            ],
            "image/png": "[encoded data removed]"
          },
          "metadata": {}
        }
      ]
    },
    {
      "cell_type": "markdown",
      "source": [
        "## 상관계수"
      ],
      "metadata": {
        "id": "3SR7JwA9hpft"
      }
    },
    {
      "cell_type": "code",
      "source": [
        "from scipy.stats import pearsonr\n",
        "\n",
        "subset = df[['Book_average_rating','units sold']].dropna()\n",
        "print(subset)\n",
        "corr,p_value = pearsonr(subset['Book_average_rating'],subset['units sold'])\n",
        "\n",
        "print(f\"상관계수: {corr:.3f}\")\n",
        "print(f\"p_value: {p_value:.5f}\")"
      ],
      "metadata": {
        "colab": {
          "base_uri": "https://localhost:8080/"
        },
        "id": "Qlje9644fwVO",
        "outputId": "d2db1226-8360-4436-f357-42db5d750797"
      },
      "execution_count": 33,
      "outputs": [
        {
          "output_type": "stream",
          "name": "stdout",
          "text": [
            "      Book_average_rating  units sold\n",
            "0                    3.42        7000\n",
            "1                    4.23        6250\n",
            "2                    3.31        5500\n",
            "3                    4.04        5500\n",
            "4                    4.04        4750\n",
            "...                   ...         ...\n",
            "1065                 3.52         106\n",
            "1066                 4.34         106\n",
            "1067                 3.92         106\n",
            "1068                 4.17         106\n",
            "1069                 4.07         106\n",
            "\n",
            "[1070 rows x 2 columns]\n",
            "상관계수: -0.009\n",
            "p_value: 0.78082\n"
          ]
        }
      ]
    },
    {
      "cell_type": "markdown",
      "source": [
        "## 회귀분석"
      ],
      "metadata": {
        "id": "XQV8RmnPhjgh"
      }
    },
    {
      "cell_type": "code",
      "source": [
        "import statsmodels.api as sm\n",
        "X = subset['Book_average_rating']\n",
        "Y = subset['units sold']\n",
        "X = sm.add_constant(X) # 절편 추가\n",
        "model = sm.OLS(Y,X).fit()\n",
        "print(model.summary())"
      ],
      "metadata": {
        "colab": {
          "base_uri": "https://localhost:8080/"
        },
        "id": "FWMCSCm9hAmp",
        "outputId": "925ea543-5a1b-4ee8-d8a5-9a95f240737c"
      },
      "execution_count": 37,
      "outputs": [
        {
          "output_type": "stream",
          "name": "stdout",
          "text": [
            "                            OLS Regression Results                            \n",
            "==============================================================================\n",
            "Dep. Variable:             units sold   R-squared:                       0.000\n",
            "Model:                            OLS   Adj. R-squared:                 -0.001\n",
            "Method:                 Least Squares   F-statistic:                   0.07746\n",
            "Date:                Fri, 21 Mar 2025   Prob (F-statistic):              0.781\n",
            "Time:                        07:10:00   Log-Likelihood:                -11833.\n",
            "No. Observations:                1070   AIC:                         2.367e+04\n",
            "Df Residuals:                    1068   BIC:                         2.368e+04\n",
            "Df Model:                           1                                         \n",
            "Covariance Type:            nonrobust                                         \n",
            "=======================================================================================\n",
            "                          coef    std err          t      P>|t|      [0.025      0.975]\n",
            "---------------------------------------------------------------------------------------\n",
            "const                 1.18e+04   7636.719      1.545      0.123   -3186.279    2.68e+04\n",
            "Book_average_rating  -529.4279   1902.230     -0.278      0.781   -4261.961    3203.105\n",
            "==============================================================================\n",
            "Omnibus:                      316.805   Durbin-Watson:                   0.016\n",
            "Prob(Omnibus):                  0.000   Jarque-Bera (JB):              660.274\n",
            "Skew:                           1.755   Prob(JB):                    4.20e-144\n",
            "Kurtosis:                       4.580   Cond. No.                         69.2\n",
            "==============================================================================\n",
            "\n",
            "Notes:\n",
            "[1] Standard Errors assume that the covariance matrix of the errors is correctly specified.\n"
          ]
        }
      ]
    },
    {
      "cell_type": "markdown",
      "source": [
        "## 다중회귀분석"
      ],
      "metadata": {
        "id": "29rppehDjuh6"
      }
    },
    {
      "cell_type": "code",
      "source": [
        "print(df.columns)"
      ],
      "metadata": {
        "colab": {
          "base_uri": "https://localhost:8080/"
        },
        "id": "6aBNug7hjw1K",
        "outputId": "4d28680d-df1a-43f2-b0fe-0080bd69ca0a"
      },
      "execution_count": 40,
      "outputs": [
        {
          "output_type": "stream",
          "name": "stdout",
          "text": [
            "Index(['index', 'Publishing Year', 'Book Name', 'Author', 'language_code',\n",
            "       'Author_Rating', 'Book_average_rating', 'Book_ratings_count', 'genre',\n",
            "       'gross sales', 'publisher revenue', 'sale price', 'sales rank',\n",
            "       'Publisher ', 'units sold'],\n",
            "      dtype='object')\n"
          ]
        }
      ]
    },
    {
      "cell_type": "code",
      "source": [
        "df = df.rename(columns=lambda x: x.strip())\n",
        "column_types = df[['sale price', 'genre','Publisher']].dtypes\n",
        "print(column_types)\n",
        "unique_values = df[['sale price','genre','Publisher']].nunique()\n",
        "print(unique_values)\n",
        "column_summary = pd.DataFrame({\n",
        "    'Column Name': df[['sale price', 'genre','Publisher']].columns,\n",
        "    'Data Type': df[['sale price', 'genre','Publisher']].dtypes,\n",
        "    'Unique Values': df[['sale price', 'genre','Publisher']].nunique()\n",
        "})\n",
        "\n",
        "print(column_summary)"
      ],
      "metadata": {
        "colab": {
          "base_uri": "https://localhost:8080/"
        },
        "id": "lrGuvSf3kEP8",
        "outputId": "ae529bda-baa4-47ac-f450-9d196e1877f4"
      },
      "execution_count": 58,
      "outputs": [
        {
          "output_type": "stream",
          "name": "stdout",
          "text": [
            "sale price    float64\n",
            "genre          object\n",
            "Publisher      object\n",
            "dtype: object\n",
            "sale price    149\n",
            "genre           4\n",
            "Publisher       9\n",
            "dtype: int64\n",
            "           Column Name Data Type  Unique Values\n",
            "sale price  sale price   float64            149\n",
            "genre            genre    object              4\n",
            "Publisher    Publisher    object              9\n"
          ]
        }
      ]
    },
    {
      "cell_type": "code",
      "source": [
        "import patsy\n",
        "import statsmodels.api as sm\n",
        "\n",
        "columns_to_use = ['Book_average_rating','sale price','genre','Publisher','units sold']\n",
        "subset=df[columns_to_use].dropna()\n",
        "\n",
        "y, X = patsy.dmatrices(\"Q('units sold') ~ Q('Book_average_rating') + Q('sale price') + C(Q('genre')) + C(Q('Publisher'))\",\n",
        "                        data=subset, return_type=\"dataframe\")\n",
        "\n",
        "model = sm.OLS(y, X).fit()\n",
        "print(model.summary())\n",
        "\n",
        "print(X.columns)\n"
      ],
      "metadata": {
        "colab": {
          "base_uri": "https://localhost:8080/"
        },
        "id": "GWv5ccOBmJxN",
        "outputId": "8d87ab03-c528-4ace-bc76-a82e74c8f283"
      },
      "execution_count": 60,
      "outputs": [
        {
          "output_type": "stream",
          "name": "stdout",
          "text": [
            "                            OLS Regression Results                            \n",
            "==============================================================================\n",
            "Dep. Variable:        Q('units sold')   R-squared:                       0.010\n",
            "Model:                            OLS   Adj. R-squared:                 -0.002\n",
            "Method:                 Least Squares   F-statistic:                    0.8175\n",
            "Date:                Fri, 21 Mar 2025   Prob (F-statistic):              0.642\n",
            "Time:                        07:43:55   Log-Likelihood:                -11827.\n",
            "No. Observations:                1070   AIC:                         2.368e+04\n",
            "Df Residuals:                    1056   BIC:                         2.375e+04\n",
            "Df Model:                          13                                         \n",
            "Covariance Type:            nonrobust                                         \n",
            "=============================================================================================================================\n",
            "                                                                coef    std err          t      P>|t|      [0.025      0.975]\n",
            "-----------------------------------------------------------------------------------------------------------------------------\n",
            "Intercept                                                  2.155e+04   8748.330      2.463      0.014    4384.677    3.87e+04\n",
            "C(Q('genre'))[T.fiction]                                  -1.034e+04   4464.004     -2.316      0.021   -1.91e+04   -1580.932\n",
            "C(Q('genre'))[T.genre fiction]                            -9901.4434   4032.196     -2.456      0.014   -1.78e+04   -1989.416\n",
            "C(Q('genre'))[T.nonfiction]                               -9999.7815   4169.907     -2.398      0.017   -1.82e+04   -1817.536\n",
            "C(Q('Publisher'))[T.Hachette Book Group]                  -1963.0822   2066.096     -0.950      0.342   -6017.203    2091.039\n",
            "C(Q('Publisher'))[T.HarperCollins Christian Publishing]     412.1153   7813.473      0.053      0.958   -1.49e+04    1.57e+04\n",
            "C(Q('Publisher'))[T.HarperCollins Publishers]             -2374.3068   1999.144     -1.188      0.235   -6297.053    1548.440\n",
            "C(Q('Publisher'))[T.HarperCollins Publishing]              1060.4192   7813.642      0.136      0.892   -1.43e+04    1.64e+04\n",
            "C(Q('Publisher'))[T.Macmillan]                            -2202.3681   2508.269     -0.878      0.380   -7124.125    2719.389\n",
            "C(Q('Publisher'))[T.Penguin Group (USA) LLC]              -1721.3466   1843.999     -0.933      0.351   -5339.665    1896.972\n",
            "C(Q('Publisher'))[T.Random House LLC]                       499.2072   1675.834      0.298      0.766   -2789.136    3787.550\n",
            "C(Q('Publisher'))[T.Simon and Schuster Digital Sales Inc] -1162.0939   2198.820     -0.529      0.597   -5476.648    3152.460\n",
            "Q('Book_average_rating')                                   -488.2591   1914.613     -0.255      0.799   -4245.138    3268.620\n",
            "Q('sale price')                                              86.7735    160.594      0.540      0.589    -228.346     401.893\n",
            "==============================================================================\n",
            "Omnibus:                      314.382   Durbin-Watson:                   0.037\n",
            "Prob(Omnibus):                  0.000   Jarque-Bera (JB):              653.161\n",
            "Skew:                           1.739   Prob(JB):                    1.47e-142\n",
            "Kurtosis:                       4.600   Cond. No.                         147.\n",
            "==============================================================================\n",
            "\n",
            "Notes:\n",
            "[1] Standard Errors assume that the covariance matrix of the errors is correctly specified.\n",
            "Index(['Intercept', 'C(Q('genre'))[T.fiction]',\n",
            "       'C(Q('genre'))[T.genre fiction]', 'C(Q('genre'))[T.nonfiction]',\n",
            "       'C(Q('Publisher'))[T.Hachette Book Group]',\n",
            "       'C(Q('Publisher'))[T.HarperCollins Christian Publishing]',\n",
            "       'C(Q('Publisher'))[T.HarperCollins Publishers]',\n",
            "       'C(Q('Publisher'))[T.HarperCollins Publishing]',\n",
            "       'C(Q('Publisher'))[T.Macmillan]',\n",
            "       'C(Q('Publisher'))[T.Penguin Group (USA) LLC]',\n",
            "       'C(Q('Publisher'))[T.Random House LLC]',\n",
            "       'C(Q('Publisher'))[T.Simon and Schuster Digital Sales Inc]',\n",
            "       'Q('Book_average_rating')', 'Q('sale price')'],\n",
            "      dtype='object')\n"
          ]
        }
      ]
    },
    {
      "cell_type": "markdown",
      "source": [
        "# 머신러닝"
      ],
      "metadata": {
        "id": "E9iYeGviqvK_"
      }
    },
    {
      "cell_type": "markdown",
      "source": [
        "## 선형 회귀 모델"
      ],
      "metadata": {
        "id": "aFtwtmy8rAV8"
      }
    },
    {
      "cell_type": "code",
      "source": [
        "import pandas as pd\n",
        "import numpy as np\n",
        "from sklearn.model_selection import train_test_split\n",
        "from sklearn.preprocessing import OneHotEncoder\n",
        "from sklearn.linear_model import LinearRegression\n",
        "from sklearn.metrics import mean_absolute_error, mean_squared_error, r2_score\n",
        "\n",
        "columns_to_use = ['Book_average_rating','sale price','genre','Publisher','units sold'] # 필요한 변수\n",
        "subset=df[columns_to_use].dropna() # 결측치 제거\n",
        "\n",
        "subset = pd.get_dummies(subset, columns=['genre','Publisher'], drop_first=True)\n",
        "\n",
        "X = subset.drop(columns=['units sold'])\n",
        "y = subset['units sold']\n",
        "\n",
        "X_train, X_test, y_train, y_test = train_test_split(X,y,test_size=0.2, random_state=42)\n",
        "model = LinearRegression()\n",
        "model.fit(X_train,y_train)\n",
        "\n",
        "y_pred = model.predict(X_test)\n",
        "\n",
        "mae = mean_absolute_error(y_test,y_pred)\n",
        "mse = mean_squared_error(y_test,y_pred)\n",
        "rmse = np.sqrt(mse)\n",
        "r2 = r2_score(y_test,y_pred)\n",
        "\n",
        "print(f\"MAE: {mae:.2f}\")\n",
        "print(f\"MSE: {mse:.2f}\")\n",
        "print(f\"RMSE: {rmse:.2f}\")\n",
        "print(f\"R^2: {r2:.2f}\")"
      ],
      "metadata": {
        "colab": {
          "base_uri": "https://localhost:8080/"
        },
        "id": "eVPY1v71rAJ0",
        "outputId": "91647a9b-2139-422b-e65e-a6dd70331564"
      },
      "execution_count": 69,
      "outputs": [
        {
          "output_type": "stream",
          "name": "stdout",
          "text": [
            "MAE: 11813.11\n",
            "MSE: 252370601.10\n",
            "RMSE: 15886.18\n",
            "R^2: -0.04\n"
          ]
        }
      ]
    }
  ]
}